{
 "cells": [
  {
   "cell_type": "markdown",
   "metadata": {},
   "source": [
    "# Captcha Solver\n",
    "\n",
    "At first we include all the necessary libraries."
   ]
  },
  {
   "cell_type": "code",
   "execution_count": 1,
   "metadata": {},
   "outputs": [
    {
     "name": "stderr",
     "output_type": "stream",
     "text": [
      "Using TensorFlow backend.\n"
     ]
    }
   ],
   "source": [
    "import argparse\n",
    "import json\n",
    "import string\n",
    "import os\n",
    "import shutil\n",
    "import uuid\n",
    "from captcha.image import ImageCaptcha\n",
    "\n",
    "import itertools\n",
    "\n",
    "import os\n",
    "import cv2\n",
    "import numpy as np\n",
    "from random import random\n",
    "\n",
    "import keras\n",
    "from keras.models import Sequential, Model\n",
    "from keras.layers import Dense, Dropout, Activation, Flatten\n",
    "from keras.layers import Conv2D, MaxPooling2D, Input\n",
    "import matplotlib.pyplot as plt"
   ]
  },
  {
   "cell_type": "markdown",
   "metadata": {},
   "source": [
    "Below, there are functions for generating CAPTCHAs. The `_gen_captcha` function gets a *directory* in which the generated CAPTCHAs will store, *number of letters* that each CAPTCHA contains, *width* and *height* of the image and the last but not least, the *number of repetition* which represents the number of different CAPTCHA image that will be generated for each permutation.\n",
    "The function checks the directory and if it does not exist, it will create it, and otherwise, if remove its component to create the CAPTCHAs again.\n",
    "The CAPTCHAs are created using `ImageCaptcha` library in python and then stored with the following name format: `<CAPTCHA_TRUE_LABELS>_<RANDOM_GENERATED_NAME>.png`. The randomly generated name is used to distinguish captcha with the same label/value."
   ]
  },
  {
   "cell_type": "code",
   "execution_count": 2,
   "metadata": {},
   "outputs": [],
   "source": [
    "def _gen_captcha(img_dir, num_of_letters, num_of_repetition, width, height):\n",
    "    if os.path.exists(img_dir):\n",
    "        shutil.rmtree(img_dir)\n",
    "    if not os.path.exists(img_dir):\n",
    "        os.makedirs(img_dir)\n",
    "\n",
    "    image = ImageCaptcha(width=width, height=height)\n",
    "\n",
    "    for counter in range(num_of_repetition):\n",
    "        print('generating %d/%d' % (counter + 1, num_of_repetition))\n",
    "        for i in itertools.permutations([str(c) for c in range(10)], num_of_letters):\n",
    "            captcha = ''.join(i)\n",
    "            fn = os.path.join(img_dir, '%s_%s.png' % (captcha, uuid.uuid4()))\n",
    "            image.write(captcha, fn)\n",
    "\n",
    "\n",
    "def gen_dataset(path, num_of_repetition, num_of_letters, width, height):\n",
    "    _gen_captcha(os.path.join(path, 'data'), num_of_letters, num_of_repetition, width, height)\n",
    "    print('Finished Data Generation')"
   ]
  },
  {
   "cell_type": "markdown",
   "metadata": {},
   "source": [
    "And here are configuration parameters for the application:"
   ]
  },
  {
   "cell_type": "code",
   "execution_count": 3,
   "metadata": {},
   "outputs": [],
   "source": [
    "BATCH_SIZE = 128\n",
    "NUM_OF_LETTERS = 5\n",
    "EPOCHS = 35\n",
    "IMG_ROW, IMG_COLS = 50, 135"
   ]
  },
  {
   "cell_type": "code",
   "execution_count": 4,
   "metadata": {},
   "outputs": [],
   "source": [
    "# Non-configs\n",
    "PATH = os.getcwd()\n",
    "DATA_PATH = os.path.join(PATH, 'train')"
   ]
  },
  {
   "cell_type": "markdown",
   "metadata": {},
   "source": [
    "The `load_data` function will load the previously generated CAPTCHAs into **test** and **train** sets. The generated is assigned to **test** or **train** randomly regarding the split ratio that is given as `test_split`.\n",
    "Besides, the loaded image is reduced to half-sized and is converted to *gray-scale* image to reduce complexity."
   ]
  },
  {
   "cell_type": "code",
   "execution_count": 5,
   "metadata": {},
   "outputs": [],
   "source": [
    "def load_data(path, test_split=0.1):\n",
    "    print 'loading dataset...'\n",
    "    y_train = []\n",
    "    y_test = []\n",
    "    x_train = []\n",
    "    x_test = []\n",
    "\n",
    "    # r=root, d=directories, f = files\n",
    "    counter = 0\n",
    "    for r, d, f in os.walk(path):\n",
    "        for fl in f:\n",
    "            if '.png' in fl:\n",
    "                flr = fl.split('_')[0]\n",
    "                counter += 1\n",
    "                label = np.zeros((NUM_OF_LETTERS, 10))\n",
    "                for i in range(NUM_OF_LETTERS):\n",
    "                    label[i, int(flr[i])] = 1\n",
    "\n",
    "                img = cv2.imread(os.path.join(r, fl))\n",
    "                img = cv2.cvtColor(img, cv2.COLOR_BGR2GRAY)\n",
    "                img = cv2.resize(img, (135/2, 50/2), interpolation=cv2.INTER_AREA)\n",
    "                img = np.reshape(img, (img.shape[0], img.shape[1], 1))\n",
    "\n",
    "                if random() < test_split:\n",
    "                    y_test.append(label)\n",
    "                    x_test.append(img)\n",
    "                else:\n",
    "                    y_train.append(label)\n",
    "                    x_train.append(img)\n",
    "\n",
    "    print('dataset size:', counter, '(train=%d, test=%d)' % (len(y_train), len(y_test)))\n",
    "    return np.array(x_train), np.array(y_train), np.array(x_test), np.array(y_test)"
   ]
  },
  {
   "cell_type": "markdown",
   "metadata": {},
   "source": [
    "Then, if the dataset does not exists, we try to create it:"
   ]
  },
  {
   "cell_type": "code",
   "execution_count": 6,
   "metadata": {},
   "outputs": [
    {
     "name": "stdout",
     "output_type": "stream",
     "text": [
      "Generating Dataset\n",
      "generating 1/8\n",
      "generating 2/8\n",
      "generating 3/8\n",
      "generating 4/8\n",
      "generating 5/8\n",
      "generating 6/8\n",
      "generating 7/8\n",
      "generating 8/8\n",
      "Finished Data Generation\n"
     ]
    }
   ],
   "source": [
    "if not os.path.exists(DATA_PATH):\n",
    "    print('Generating Dataset')\n",
    "    gen_dataset(DATA_PATH, 8, NUM_OF_LETTERS, IMG_COLS, IMG_ROW)"
   ]
  },
  {
   "cell_type": "markdown",
   "metadata": {},
   "source": [
    "Here, we load the data and convert them in a way that is appropriate for CNNs. We scale the image values from 0~255 range to just between 0~1."
   ]
  },
  {
   "cell_type": "code",
   "execution_count": 7,
   "metadata": {},
   "outputs": [
    {
     "name": "stdout",
     "output_type": "stream",
     "text": [
      "loading dataset...\n",
      "('dataset size:', 241920, '(train=217835, test=24085)')\n",
      "(217835, 25, 67, 1)\n",
      "(217835, 5, 10)\n",
      "(24085, 25, 67, 1)\n",
      "(24085, 5, 10)\n"
     ]
    }
   ],
   "source": [
    "x_train, y_train, x_test, y_test = load_data(DATA_PATH)\n",
    "x_train = x_train.astype('float32')\n",
    "x_test = x_test.astype('float32')\n",
    "x_train /= 255\n",
    "x_test /= 255\n",
    "\n",
    "print(x_train.shape)\n",
    "print(y_train.shape)\n",
    "print(x_test.shape)\n",
    "print(y_test.shape)"
   ]
  },
  {
   "cell_type": "markdown",
   "metadata": {},
   "source": [
    "If `n` be the number of samples, `d` the number of digits, and the `c` the number of character per digits (which is this case is 10) then, here we reshape the label sets from `n x d x c` to `n x c x d` in order to feed them to the network correctly."
   ]
  },
  {
   "cell_type": "code",
   "execution_count": 8,
   "metadata": {},
   "outputs": [],
   "source": [
    "s_train = []\n",
    "s_test = []\n",
    "for i in range(NUM_OF_LETTERS):\n",
    "    s_train.append(y_train[:, i, :])\n",
    "    s_test.append(y_test[:, i, :])"
   ]
  },
  {
   "cell_type": "markdown",
   "metadata": {},
   "source": [
    "Finally, we create a model network. The network has the input with the shape of `25x67x1` which is the shape of the reduced-size image that is turned into a gray-scale image. Then, the first layer is a same-padding convolutional layer with 32, `ReLU`-activation unit followed by a Max-Pooling layer. Then the same repeats with 48 and 64 units. Then a 512 dense layer is employed followed by `d` (number of letters) softmax layers.\n",
    "Then the `binary-cross-entropy` has been chosen to compare the prediction with the truth value which then used by *Adam* optimizer to train the network."
   ]
  },
  {
   "cell_type": "code",
   "execution_count": 9,
   "metadata": {},
   "outputs": [
    {
     "name": "stdout",
     "output_type": "stream",
     "text": [
      "__________________________________________________________________________________________________\n",
      "Layer (type)                    Output Shape         Param #     Connected to                     \n",
      "==================================================================================================\n",
      "input_1 (InputLayer)            (None, 25, 67, 1)    0                                            \n",
      "__________________________________________________________________________________________________\n",
      "conv2d_1 (Conv2D)               (None, 25, 67, 32)   832         input_1[0][0]                    \n",
      "__________________________________________________________________________________________________\n",
      "max_pooling2d_1 (MaxPooling2D)  (None, 12, 33, 32)   0           conv2d_1[0][0]                   \n",
      "__________________________________________________________________________________________________\n",
      "conv2d_2 (Conv2D)               (None, 12, 33, 48)   38448       max_pooling2d_1[0][0]            \n",
      "__________________________________________________________________________________________________\n",
      "max_pooling2d_2 (MaxPooling2D)  (None, 6, 16, 48)    0           conv2d_2[0][0]                   \n",
      "__________________________________________________________________________________________________\n",
      "conv2d_3 (Conv2D)               (None, 6, 16, 64)    76864       max_pooling2d_2[0][0]            \n",
      "__________________________________________________________________________________________________\n",
      "max_pooling2d_3 (MaxPooling2D)  (None, 3, 8, 64)     0           conv2d_3[0][0]                   \n",
      "__________________________________________________________________________________________________\n",
      "dropout_1 (Dropout)             (None, 3, 8, 64)     0           max_pooling2d_3[0][0]            \n",
      "__________________________________________________________________________________________________\n",
      "flatten_1 (Flatten)             (None, 1536)         0           dropout_1[0][0]                  \n",
      "__________________________________________________________________________________________________\n",
      "dense_1 (Dense)                 (None, 512)          786944      flatten_1[0][0]                  \n",
      "__________________________________________________________________________________________________\n",
      "dropout_2 (Dropout)             (None, 512)          0           dense_1[0][0]                    \n",
      "__________________________________________________________________________________________________\n",
      "digit0 (Dense)                  (None, 10)           5130        dropout_2[0][0]                  \n",
      "__________________________________________________________________________________________________\n",
      "digit1 (Dense)                  (None, 10)           5130        dropout_2[0][0]                  \n",
      "__________________________________________________________________________________________________\n",
      "digit2 (Dense)                  (None, 10)           5130        dropout_2[0][0]                  \n",
      "__________________________________________________________________________________________________\n",
      "digit3 (Dense)                  (None, 10)           5130        dropout_2[0][0]                  \n",
      "__________________________________________________________________________________________________\n",
      "digit4 (Dense)                  (None, 10)           5130        dropout_2[0][0]                  \n",
      "==================================================================================================\n",
      "Total params: 928,738\n",
      "Trainable params: 928,738\n",
      "Non-trainable params: 0\n",
      "__________________________________________________________________________________________________\n"
     ]
    }
   ],
   "source": [
    "save_dir = os.path.join(PATH, 'saved_models')\n",
    "model_name = 'keras_cifar10_trained_model.h5'\n",
    "\n",
    "input_layer = Input((25, 67, 1))\n",
    "x = Conv2D(filters=32, kernel_size=(5, 5), padding='same', activation='relu')(input_layer)\n",
    "x = MaxPooling2D(pool_size=(2, 2))(x)\n",
    "\n",
    "x = Conv2D(filters=48, kernel_size=(5, 5), padding='same', activation='relu')(x)\n",
    "x = MaxPooling2D(pool_size=(2, 2))(x)\n",
    "\n",
    "x = Conv2D(filters=64, kernel_size=(5, 5), padding='same', activation='relu')(x)\n",
    "x = MaxPooling2D(pool_size=(2, 2))(x)\n",
    "\n",
    "x = Dropout(0.3)(x)\n",
    "x = Flatten()(x)\n",
    "x = Dense(512, activation='relu')(x)\n",
    "x = Dropout(0.3)(x)\n",
    "\n",
    "out = [Dense(10, name='digit%d' % i, activation='softmax')(x) for i in range(NUM_OF_LETTERS)]\n",
    "model = Model(inputs=input_layer, outputs=out)\n",
    "\n",
    "# initiate Adam optimizer\n",
    "opt = keras.optimizers.Adam(lr=0.0001, beta_1=0.99, beta_2=0.9999, epsilon=None, decay=0.0, amsgrad=False)\n",
    "model.compile(loss='binary_crossentropy',\n",
    "              optimizer=opt,\n",
    "              metrics=['accuracy'])\n",
    "\n",
    "model.summary()    "
   ]
  },
  {
   "cell_type": "markdown",
   "metadata": {},
   "source": [
    "Before we start training the model, we have defined a function called `plot_diagram` to plot the **loss** and **accuracy** metric of the network. "
   ]
  },
  {
   "cell_type": "code",
   "execution_count": 10,
   "metadata": {},
   "outputs": [],
   "source": [
    "%matplotlib inline\n",
    "\n",
    "digit_acc = [[] for _ in range(NUM_OF_LETTERS)]\n",
    "val_digit_acc = [[] for _ in range(NUM_OF_LETTERS)]\n",
    "loss = []\n",
    "val_loss = []\n",
    "\n",
    "def plot_diagram(digit_acc_now, val_digit_acc_now, loss_now, val_loss_now):\n",
    "    global digit_acc, val_digit_acc, loss, val_loss\n",
    "    for i in range(NUM_OF_LETTERS):\n",
    "        digit_acc[i].extend(digit_acc_now[i])\n",
    "        val_digit_acc[i].extend(val_digit_acc_now[i])\n",
    "    loss.extend(loss_now)\n",
    "    val_loss.extend(val_loss_now)\n",
    "    \n",
    "    \n",
    "    for i in range(NUM_OF_LETTERS):\n",
    "        plt.plot(digit_acc[i], label='digit%d_acc' % i)\n",
    "        plt.plot(val_digit_acc[i], label='val_digit%d_acc' % i)\n",
    "    plt.title('Model accuracy')\n",
    "    plt.ylabel('Accuracy')\n",
    "    plt.xlabel('Epoch')\n",
    "    plt.legend()\n",
    "    plt.show()\n",
    "\n",
    "    # Plot training & validation loss values\n",
    "    plt.plot(loss)\n",
    "    plt.plot(val_loss)\n",
    "    plt.title('Model loss')\n",
    "    plt.ylabel('Loss')\n",
    "    plt.xlabel('Epoch')\n",
    "    plt.legend(['Train', 'Test'], loc='upper left')\n",
    "    plt.show()"
   ]
  },
  {
   "cell_type": "markdown",
   "metadata": {},
   "source": [
    "And here is the trainig part, in which we train the network for `EPOCHS=100` epochs with the `BATCH_SIZE=128`."
   ]
  },
  {
   "cell_type": "code",
   "execution_count": 11,
   "metadata": {
    "scrolled": false
   },
   "outputs": [
    {
     "name": "stdout",
     "output_type": "stream",
     "text": [
      "Train on 217835 samples, validate on 24085 samples\n",
      "Epoch 1/35\n",
      "217835/217835 [==============================] - 623s 3ms/step - loss: 1.3485 - digit0_loss: 0.2510 - digit1_loss: 0.2842 - digit2_loss: 0.2869 - digit3_loss: 0.2781 - digit4_loss: 0.2483 - digit0_acc: 0.9144 - digit1_acc: 0.9045 - digit2_acc: 0.9038 - digit3_acc: 0.9061 - digit4_acc: 0.9151 - val_loss: 0.7883 - val_digit0_loss: 0.1079 - val_digit1_loss: 0.1936 - val_digit2_loss: 0.2045 - val_digit3_loss: 0.1748 - val_digit4_loss: 0.1075 - val_digit0_acc: 0.9610 - val_digit1_acc: 0.9264 - val_digit2_acc: 0.9215 - val_digit3_acc: 0.9340 - val_digit4_acc: 0.9620\n",
      "Epoch 2/35\n",
      "217835/217835 [==============================] - 613s 3ms/step - loss: 0.7050 - digit0_loss: 0.0876 - digit1_loss: 0.1760 - digit2_loss: 0.1929 - digit3_loss: 0.1601 - digit4_loss: 0.0885 - digit0_acc: 0.9680 - digit1_acc: 0.9340 - digit2_acc: 0.9278 - digit3_acc: 0.9406 - digit4_acc: 0.9677 - val_loss: 0.4780 - val_digit0_loss: 0.0483 - val_digit1_loss: 0.1212 - val_digit2_loss: 0.1472 - val_digit3_loss: 0.1101 - val_digit4_loss: 0.0513 - val_digit0_acc: 0.9835 - val_digit1_acc: 0.9561 - val_digit2_acc: 0.9445 - val_digit3_acc: 0.9608 - val_digit4_acc: 0.9824\n",
      "Epoch 3/35\n",
      "217835/217835 [==============================] - 614s 3ms/step - loss: 0.4980 - digit0_loss: 0.0552 - digit1_loss: 0.1223 - digit2_loss: 0.1472 - digit3_loss: 0.1157 - digit4_loss: 0.0575 - digit0_acc: 0.9802 - digit1_acc: 0.9549 - digit2_acc: 0.9450 - digit3_acc: 0.9577 - digit4_acc: 0.9794 - val_loss: 0.3218 - val_digit0_loss: 0.0324 - val_digit1_loss: 0.0771 - val_digit2_loss: 0.1007 - val_digit3_loss: 0.0762 - val_digit4_loss: 0.0355 - val_digit0_acc: 0.9888 - val_digit1_acc: 0.9733 - val_digit2_acc: 0.9637 - val_digit3_acc: 0.9733 - val_digit4_acc: 0.9879\n",
      "Epoch 4/35\n",
      "217835/217835 [==============================] - 611s 3ms/step - loss: 0.3765 - digit0_loss: 0.0426 - digit1_loss: 0.0905 - digit2_loss: 0.1096 - digit3_loss: 0.0891 - digit4_loss: 0.0448 - digit0_acc: 0.9848 - digit1_acc: 0.9673 - digit2_acc: 0.9599 - digit3_acc: 0.9677 - digit4_acc: 0.9841 - val_loss: 0.2329 - val_digit0_loss: 0.0246 - val_digit1_loss: 0.0554 - val_digit2_loss: 0.0695 - val_digit3_loss: 0.0558 - val_digit4_loss: 0.0276 - val_digit0_acc: 0.9917 - val_digit1_acc: 0.9812 - val_digit2_acc: 0.9764 - val_digit3_acc: 0.9811 - val_digit4_acc: 0.9906\n",
      "Epoch 5/35\n",
      "217835/217835 [==============================] - 614s 3ms/step - loss: 0.3011 - digit0_loss: 0.0352 - digit1_loss: 0.0721 - digit2_loss: 0.0849 - digit3_loss: 0.0718 - digit4_loss: 0.0371 - digit0_acc: 0.9876 - digit1_acc: 0.9741 - digit2_acc: 0.9696 - digit3_acc: 0.9742 - digit4_acc: 0.9869 - val_loss: 0.1792 - val_digit0_loss: 0.0198 - val_digit1_loss: 0.0423 - val_digit2_loss: 0.0517 - val_digit3_loss: 0.0431 - val_digit4_loss: 0.0223 - val_digit0_acc: 0.9935 - val_digit1_acc: 0.9857 - val_digit2_acc: 0.9832 - val_digit3_acc: 0.9854 - val_digit4_acc: 0.9925\n",
      "Epoch 6/35\n",
      "217835/217835 [==============================] - 617s 3ms/step - loss: 0.2523 - digit0_loss: 0.0300 - digit1_loss: 0.0600 - digit2_loss: 0.0702 - digit3_loss: 0.0602 - digit4_loss: 0.0319 - digit0_acc: 0.9894 - digit1_acc: 0.9787 - digit2_acc: 0.9751 - digit3_acc: 0.9785 - digit4_acc: 0.9888 - val_loss: 0.1481 - val_digit0_loss: 0.0166 - val_digit1_loss: 0.0348 - val_digit2_loss: 0.0423 - val_digit3_loss: 0.0354 - val_digit4_loss: 0.0190 - val_digit0_acc: 0.9945 - val_digit1_acc: 0.9885 - val_digit2_acc: 0.9865 - val_digit3_acc: 0.9884 - val_digit4_acc: 0.9936\n",
      "Epoch 7/35\n",
      "217835/217835 [==============================] - 615s 3ms/step - loss: 0.2178 - digit0_loss: 0.0263 - digit1_loss: 0.0517 - digit2_loss: 0.0598 - digit3_loss: 0.0520 - digit4_loss: 0.0280 - digit0_acc: 0.9907 - digit1_acc: 0.9818 - digit2_acc: 0.9792 - digit3_acc: 0.9816 - digit4_acc: 0.9901 - val_loss: 0.1257 - val_digit0_loss: 0.0142 - val_digit1_loss: 0.0295 - val_digit2_loss: 0.0356 - val_digit3_loss: 0.0297 - val_digit4_loss: 0.0167 - val_digit0_acc: 0.9953 - val_digit1_acc: 0.9904 - val_digit2_acc: 0.9886 - val_digit3_acc: 0.9902 - val_digit4_acc: 0.9945\n",
      "Epoch 8/35\n",
      "217835/217835 [==============================] - 615s 3ms/step - loss: 0.1924 - digit0_loss: 0.0234 - digit1_loss: 0.0456 - digit2_loss: 0.0527 - digit3_loss: 0.0458 - digit4_loss: 0.0250 - digit0_acc: 0.9918 - digit1_acc: 0.9839 - digit2_acc: 0.9818 - digit3_acc: 0.9839 - digit4_acc: 0.9912 - val_loss: 0.1093 - val_digit0_loss: 0.0125 - val_digit1_loss: 0.0254 - val_digit2_loss: 0.0309 - val_digit3_loss: 0.0260 - val_digit4_loss: 0.0146 - val_digit0_acc: 0.9959 - val_digit1_acc: 0.9916 - val_digit2_acc: 0.9900 - val_digit3_acc: 0.9915 - val_digit4_acc: 0.9951\n",
      "Epoch 9/35\n",
      "217835/217835 [==============================] - 614s 3ms/step - loss: 0.1722 - digit0_loss: 0.0212 - digit1_loss: 0.0409 - digit2_loss: 0.0467 - digit3_loss: 0.0408 - digit4_loss: 0.0226 - digit0_acc: 0.9925 - digit1_acc: 0.9856 - digit2_acc: 0.9839 - digit3_acc: 0.9859 - digit4_acc: 0.9921 - val_loss: 0.0953 - val_digit0_loss: 0.0112 - val_digit1_loss: 0.0219 - val_digit2_loss: 0.0268 - val_digit3_loss: 0.0224 - val_digit4_loss: 0.0130 - val_digit0_acc: 0.9963 - val_digit1_acc: 0.9929 - val_digit2_acc: 0.9914 - val_digit3_acc: 0.9928 - val_digit4_acc: 0.9957\n",
      "Epoch 10/35\n",
      "217835/217835 [==============================] - 617s 3ms/step - loss: 0.1553 - digit0_loss: 0.0191 - digit1_loss: 0.0367 - digit2_loss: 0.0420 - digit3_loss: 0.0370 - digit4_loss: 0.0206 - digit0_acc: 0.9933 - digit1_acc: 0.9872 - digit2_acc: 0.9856 - digit3_acc: 0.9870 - digit4_acc: 0.9928 - val_loss: 0.0847 - val_digit0_loss: 0.0098 - val_digit1_loss: 0.0195 - val_digit2_loss: 0.0238 - val_digit3_loss: 0.0199 - val_digit4_loss: 0.0117 - val_digit0_acc: 0.9968 - val_digit1_acc: 0.9937 - val_digit2_acc: 0.9922 - val_digit3_acc: 0.9935 - val_digit4_acc: 0.9961\n",
      "Epoch 11/35\n",
      "217835/217835 [==============================] - 617s 3ms/step - loss: 0.1414 - digit0_loss: 0.0176 - digit1_loss: 0.0334 - digit2_loss: 0.0383 - digit3_loss: 0.0334 - digit4_loss: 0.0187 - digit0_acc: 0.9938 - digit1_acc: 0.9883 - digit2_acc: 0.9869 - digit3_acc: 0.9883 - digit4_acc: 0.9935 - val_loss: 0.0777 - val_digit0_loss: 0.0092 - val_digit1_loss: 0.0177 - val_digit2_loss: 0.0218 - val_digit3_loss: 0.0183 - val_digit4_loss: 0.0107 - val_digit0_acc: 0.9969 - val_digit1_acc: 0.9944 - val_digit2_acc: 0.9930 - val_digit3_acc: 0.9941 - val_digit4_acc: 0.9963\n",
      "Epoch 12/35\n",
      "217835/217835 [==============================] - 618s 3ms/step - loss: 0.1306 - digit0_loss: 0.0161 - digit1_loss: 0.0310 - digit2_loss: 0.0352 - digit3_loss: 0.0306 - digit4_loss: 0.0177 - digit0_acc: 0.9943 - digit1_acc: 0.9892 - digit2_acc: 0.9880 - digit3_acc: 0.9895 - digit4_acc: 0.9939 - val_loss: 0.0709 - val_digit0_loss: 0.0083 - val_digit1_loss: 0.0161 - val_digit2_loss: 0.0197 - val_digit3_loss: 0.0167 - val_digit4_loss: 0.0100 - val_digit0_acc: 0.9973 - val_digit1_acc: 0.9949 - val_digit2_acc: 0.9937 - val_digit3_acc: 0.9946 - val_digit4_acc: 0.9967\n",
      "Epoch 13/35\n",
      "217835/217835 [==============================] - 614s 3ms/step - loss: 0.1201 - digit0_loss: 0.0149 - digit1_loss: 0.0282 - digit2_loss: 0.0326 - digit3_loss: 0.0279 - digit4_loss: 0.0164 - digit0_acc: 0.9948 - digit1_acc: 0.9903 - digit2_acc: 0.9889 - digit3_acc: 0.9904 - digit4_acc: 0.9942 - val_loss: 0.0667 - val_digit0_loss: 0.0079 - val_digit1_loss: 0.0152 - val_digit2_loss: 0.0184 - val_digit3_loss: 0.0156 - val_digit4_loss: 0.0096 - val_digit0_acc: 0.9974 - val_digit1_acc: 0.9951 - val_digit2_acc: 0.9942 - val_digit3_acc: 0.9949 - val_digit4_acc: 0.9968\n",
      "Epoch 14/35\n",
      "217835/217835 [==============================] - 619s 3ms/step - loss: 0.1114 - digit0_loss: 0.0138 - digit1_loss: 0.0264 - digit2_loss: 0.0300 - digit3_loss: 0.0262 - digit4_loss: 0.0150 - digit0_acc: 0.9951 - digit1_acc: 0.9909 - digit2_acc: 0.9899 - digit3_acc: 0.9910 - digit4_acc: 0.9948 - val_loss: 0.0601 - val_digit0_loss: 0.0071 - val_digit1_loss: 0.0135 - val_digit2_loss: 0.0166 - val_digit3_loss: 0.0143 - val_digit4_loss: 0.0086 - val_digit0_acc: 0.9976 - val_digit1_acc: 0.9957 - val_digit2_acc: 0.9948 - val_digit3_acc: 0.9953 - val_digit4_acc: 0.9971\n",
      "Epoch 15/35\n",
      "217835/217835 [==============================] - 617s 3ms/step - loss: 0.1044 - digit0_loss: 0.0129 - digit1_loss: 0.0244 - digit2_loss: 0.0281 - digit3_loss: 0.0246 - digit4_loss: 0.0143 - digit0_acc: 0.9955 - digit1_acc: 0.9915 - digit2_acc: 0.9905 - digit3_acc: 0.9915 - digit4_acc: 0.9951 - val_loss: 0.0557 - val_digit0_loss: 0.0067 - val_digit1_loss: 0.0124 - val_digit2_loss: 0.0155 - val_digit3_loss: 0.0132 - val_digit4_loss: 0.0078 - val_digit0_acc: 0.9978 - val_digit1_acc: 0.9961 - val_digit2_acc: 0.9951 - val_digit3_acc: 0.9957 - val_digit4_acc: 0.9972\n",
      "Epoch 16/35\n",
      "217835/217835 [==============================] - 615s 3ms/step - loss: 0.0978 - digit0_loss: 0.0121 - digit1_loss: 0.0229 - digit2_loss: 0.0263 - digit3_loss: 0.0231 - digit4_loss: 0.0134 - digit0_acc: 0.9958 - digit1_acc: 0.9921 - digit2_acc: 0.9912 - digit3_acc: 0.9920 - digit4_acc: 0.9954 - val_loss: 0.0521 - val_digit0_loss: 0.0062 - val_digit1_loss: 0.0117 - val_digit2_loss: 0.0146 - val_digit3_loss: 0.0123 - val_digit4_loss: 0.0073 - val_digit0_acc: 0.9980 - val_digit1_acc: 0.9963 - val_digit2_acc: 0.9954 - val_digit3_acc: 0.9961 - val_digit4_acc: 0.9975\n",
      "Epoch 17/35\n",
      "217835/217835 [==============================] - 618s 3ms/step - loss: 0.0926 - digit0_loss: 0.0116 - digit1_loss: 0.0219 - digit2_loss: 0.0247 - digit3_loss: 0.0218 - digit4_loss: 0.0126 - digit0_acc: 0.9960 - digit1_acc: 0.9925 - digit2_acc: 0.9916 - digit3_acc: 0.9926 - digit4_acc: 0.9956 - val_loss: 0.0502 - val_digit0_loss: 0.0060 - val_digit1_loss: 0.0112 - val_digit2_loss: 0.0138 - val_digit3_loss: 0.0120 - val_digit4_loss: 0.0072 - val_digit0_acc: 0.9980 - val_digit1_acc: 0.9965 - val_digit2_acc: 0.9956 - val_digit3_acc: 0.9961 - val_digit4_acc: 0.9976\n",
      "Epoch 18/35\n",
      "217835/217835 [==============================] - 617s 3ms/step - loss: 0.0867 - digit0_loss: 0.0109 - digit1_loss: 0.0202 - digit2_loss: 0.0233 - digit3_loss: 0.0204 - digit4_loss: 0.0120 - digit0_acc: 0.9962 - digit1_acc: 0.9931 - digit2_acc: 0.9921 - digit3_acc: 0.9930 - digit4_acc: 0.9959 - val_loss: 0.0462 - val_digit0_loss: 0.0058 - val_digit1_loss: 0.0104 - val_digit2_loss: 0.0127 - val_digit3_loss: 0.0108 - val_digit4_loss: 0.0064 - val_digit0_acc: 0.9981 - val_digit1_acc: 0.9968 - val_digit2_acc: 0.9960 - val_digit3_acc: 0.9965 - val_digit4_acc: 0.9978\n",
      "Epoch 19/35\n",
      "217835/217835 [==============================] - 616s 3ms/step - loss: 0.0819 - digit0_loss: 0.0102 - digit1_loss: 0.0193 - digit2_loss: 0.0220 - digit3_loss: 0.0193 - digit4_loss: 0.0111 - digit0_acc: 0.9964 - digit1_acc: 0.9934 - digit2_acc: 0.9926 - digit3_acc: 0.9934 - digit4_acc: 0.9961 - val_loss: 0.0429 - val_digit0_loss: 0.0052 - val_digit1_loss: 0.0096 - val_digit2_loss: 0.0118 - val_digit3_loss: 0.0102 - val_digit4_loss: 0.0060 - val_digit0_acc: 0.9983 - val_digit1_acc: 0.9969 - val_digit2_acc: 0.9962 - val_digit3_acc: 0.9967 - val_digit4_acc: 0.9980\n",
      "Epoch 20/35\n",
      "217835/217835 [==============================] - 616s 3ms/step - loss: 0.0769 - digit0_loss: 0.0095 - digit1_loss: 0.0180 - digit2_loss: 0.0207 - digit3_loss: 0.0180 - digit4_loss: 0.0107 - digit0_acc: 0.9967 - digit1_acc: 0.9939 - digit2_acc: 0.9930 - digit3_acc: 0.9939 - digit4_acc: 0.9963 - val_loss: 0.0411 - val_digit0_loss: 0.0050 - val_digit1_loss: 0.0092 - val_digit2_loss: 0.0112 - val_digit3_loss: 0.0098 - val_digit4_loss: 0.0059 - val_digit0_acc: 0.9983 - val_digit1_acc: 0.9972 - val_digit2_acc: 0.9964 - val_digit3_acc: 0.9969 - val_digit4_acc: 0.9980\n",
      "Epoch 21/35\n",
      "217835/217835 [==============================] - 616s 3ms/step - loss: 0.0733 - digit0_loss: 0.0091 - digit1_loss: 0.0173 - digit2_loss: 0.0194 - digit3_loss: 0.0174 - digit4_loss: 0.0101 - digit0_acc: 0.9969 - digit1_acc: 0.9941 - digit2_acc: 0.9935 - digit3_acc: 0.9942 - digit4_acc: 0.9965 - val_loss: 0.0398 - val_digit0_loss: 0.0048 - val_digit1_loss: 0.0089 - val_digit2_loss: 0.0108 - val_digit3_loss: 0.0096 - val_digit4_loss: 0.0057 - val_digit0_acc: 0.9983 - val_digit1_acc: 0.9972 - val_digit2_acc: 0.9966 - val_digit3_acc: 0.9969 - val_digit4_acc: 0.9981\n",
      "Epoch 22/35\n",
      "217835/217835 [==============================] - 619s 3ms/step - loss: 0.0698 - digit0_loss: 0.0087 - digit1_loss: 0.0163 - digit2_loss: 0.0186 - digit3_loss: 0.0165 - digit4_loss: 0.0096 - digit0_acc: 0.9970 - digit1_acc: 0.9944 - digit2_acc: 0.9937 - digit3_acc: 0.9943 - digit4_acc: 0.9967 - val_loss: 0.0377 - val_digit0_loss: 0.0046 - val_digit1_loss: 0.0083 - val_digit2_loss: 0.0103 - val_digit3_loss: 0.0091 - val_digit4_loss: 0.0054 - val_digit0_acc: 0.9985 - val_digit1_acc: 0.9975 - val_digit2_acc: 0.9968 - val_digit3_acc: 0.9971 - val_digit4_acc: 0.9981\n",
      "Epoch 23/35\n",
      "217835/217835 [==============================] - 617s 3ms/step - loss: 0.0665 - digit0_loss: 0.0083 - digit1_loss: 0.0153 - digit2_loss: 0.0179 - digit3_loss: 0.0158 - digit4_loss: 0.0092 - digit0_acc: 0.9971 - digit1_acc: 0.9948 - digit2_acc: 0.9940 - digit3_acc: 0.9947 - digit4_acc: 0.9968 - val_loss: 0.0357 - val_digit0_loss: 0.0044 - val_digit1_loss: 0.0080 - val_digit2_loss: 0.0097 - val_digit3_loss: 0.0085 - val_digit4_loss: 0.0052 - val_digit0_acc: 0.9985 - val_digit1_acc: 0.9975 - val_digit2_acc: 0.9969 - val_digit3_acc: 0.9973 - val_digit4_acc: 0.9982\n",
      "Epoch 24/35\n",
      "217835/217835 [==============================] - 619s 3ms/step - loss: 0.0632 - digit0_loss: 0.0080 - digit1_loss: 0.0148 - digit2_loss: 0.0169 - digit3_loss: 0.0148 - digit4_loss: 0.0089 - digit0_acc: 0.9973 - digit1_acc: 0.9950 - digit2_acc: 0.9944 - digit3_acc: 0.9950 - digit4_acc: 0.9969 - val_loss: 0.0362 - val_digit0_loss: 0.0046 - val_digit1_loss: 0.0082 - val_digit2_loss: 0.0097 - val_digit3_loss: 0.0085 - val_digit4_loss: 0.0053 - val_digit0_acc: 0.9985 - val_digit1_acc: 0.9975 - val_digit2_acc: 0.9971 - val_digit3_acc: 0.9973 - val_digit4_acc: 0.9983\n",
      "Epoch 25/35\n",
      "217835/217835 [==============================] - 612s 3ms/step - loss: 0.0598 - digit0_loss: 0.0075 - digit1_loss: 0.0140 - digit2_loss: 0.0160 - digit3_loss: 0.0140 - digit4_loss: 0.0083 - digit0_acc: 0.9974 - digit1_acc: 0.9952 - digit2_acc: 0.9947 - digit3_acc: 0.9952 - digit4_acc: 0.9971 - val_loss: 0.0348 - val_digit0_loss: 0.0042 - val_digit1_loss: 0.0079 - val_digit2_loss: 0.0094 - val_digit3_loss: 0.0082 - val_digit4_loss: 0.0051 - val_digit0_acc: 0.9985 - val_digit1_acc: 0.9974 - val_digit2_acc: 0.9970 - val_digit3_acc: 0.9973 - val_digit4_acc: 0.9982\n",
      "Epoch 26/35\n",
      "217835/217835 [==============================] - 614s 3ms/step - loss: 0.0569 - digit0_loss: 0.0072 - digit1_loss: 0.0133 - digit2_loss: 0.0151 - digit3_loss: 0.0135 - digit4_loss: 0.0079 - digit0_acc: 0.9975 - digit1_acc: 0.9954 - digit2_acc: 0.9949 - digit3_acc: 0.9954 - digit4_acc: 0.9973 - val_loss: 0.0323 - val_digit0_loss: 0.0041 - val_digit1_loss: 0.0072 - val_digit2_loss: 0.0087 - val_digit3_loss: 0.0077 - val_digit4_loss: 0.0046 - val_digit0_acc: 0.9986 - val_digit1_acc: 0.9978 - val_digit2_acc: 0.9974 - val_digit3_acc: 0.9976 - val_digit4_acc: 0.9984\n",
      "Epoch 27/35\n",
      "217835/217835 [==============================] - 616s 3ms/step - loss: 0.0551 - digit0_loss: 0.0069 - digit1_loss: 0.0128 - digit2_loss: 0.0148 - digit3_loss: 0.0131 - digit4_loss: 0.0075 - digit0_acc: 0.9977 - digit1_acc: 0.9957 - digit2_acc: 0.9951 - digit3_acc: 0.9955 - digit4_acc: 0.9974 - val_loss: 0.0313 - val_digit0_loss: 0.0038 - val_digit1_loss: 0.0069 - val_digit2_loss: 0.0083 - val_digit3_loss: 0.0076 - val_digit4_loss: 0.0046 - val_digit0_acc: 0.9987 - val_digit1_acc: 0.9978 - val_digit2_acc: 0.9973 - val_digit3_acc: 0.9975 - val_digit4_acc: 0.9985\n",
      "Epoch 28/35\n",
      "217835/217835 [==============================] - 619s 3ms/step - loss: 0.0525 - digit0_loss: 0.0067 - digit1_loss: 0.0123 - digit2_loss: 0.0140 - digit3_loss: 0.0124 - digit4_loss: 0.0071 - digit0_acc: 0.9977 - digit1_acc: 0.9958 - digit2_acc: 0.9953 - digit3_acc: 0.9958 - digit4_acc: 0.9976 - val_loss: 0.0299 - val_digit0_loss: 0.0037 - val_digit1_loss: 0.0066 - val_digit2_loss: 0.0080 - val_digit3_loss: 0.0072 - val_digit4_loss: 0.0045 - val_digit0_acc: 0.9987 - val_digit1_acc: 0.9980 - val_digit2_acc: 0.9974 - val_digit3_acc: 0.9977 - val_digit4_acc: 0.9985\n",
      "Epoch 29/35\n"
     ]
    },
    {
     "name": "stdout",
     "output_type": "stream",
     "text": [
      "217835/217835 [==============================] - 621s 3ms/step - loss: 0.0506 - digit0_loss: 0.0064 - digit1_loss: 0.0117 - digit2_loss: 0.0134 - digit3_loss: 0.0120 - digit4_loss: 0.0072 - digit0_acc: 0.9978 - digit1_acc: 0.9960 - digit2_acc: 0.9956 - digit3_acc: 0.9960 - digit4_acc: 0.9975 - val_loss: 0.0284 - val_digit0_loss: 0.0035 - val_digit1_loss: 0.0064 - val_digit2_loss: 0.0075 - val_digit3_loss: 0.0069 - val_digit4_loss: 0.0042 - val_digit0_acc: 0.9988 - val_digit1_acc: 0.9980 - val_digit2_acc: 0.9977 - val_digit3_acc: 0.9978 - val_digit4_acc: 0.9986\n",
      "Epoch 30/35\n",
      "217835/217835 [==============================] - 3578s 16ms/step - loss: 0.0480 - digit0_loss: 0.0060 - digit1_loss: 0.0112 - digit2_loss: 0.0128 - digit3_loss: 0.0115 - digit4_loss: 0.0066 - digit0_acc: 0.9979 - digit1_acc: 0.9962 - digit2_acc: 0.9957 - digit3_acc: 0.9960 - digit4_acc: 0.9977 - val_loss: 0.0290 - val_digit0_loss: 0.0035 - val_digit1_loss: 0.0063 - val_digit2_loss: 0.0076 - val_digit3_loss: 0.0070 - val_digit4_loss: 0.0046 - val_digit0_acc: 0.9988 - val_digit1_acc: 0.9979 - val_digit2_acc: 0.9975 - val_digit3_acc: 0.9977 - val_digit4_acc: 0.9984\n",
      "Epoch 31/35\n",
      "217835/217835 [==============================] - 1497s 7ms/step - loss: 0.0468 - digit0_loss: 0.0059 - digit1_loss: 0.0108 - digit2_loss: 0.0124 - digit3_loss: 0.0111 - digit4_loss: 0.0065 - digit0_acc: 0.9980 - digit1_acc: 0.9964 - digit2_acc: 0.9959 - digit3_acc: 0.9962 - digit4_acc: 0.9977 - val_loss: 0.0279 - val_digit0_loss: 0.0036 - val_digit1_loss: 0.0062 - val_digit2_loss: 0.0072 - val_digit3_loss: 0.0067 - val_digit4_loss: 0.0041 - val_digit0_acc: 0.9987 - val_digit1_acc: 0.9981 - val_digit2_acc: 0.9978 - val_digit3_acc: 0.9978 - val_digit4_acc: 0.9987\n",
      "Epoch 32/35\n",
      "217835/217835 [==============================] - 1873s 9ms/step - loss: 0.0447 - digit0_loss: 0.0055 - digit1_loss: 0.0106 - digit2_loss: 0.0119 - digit3_loss: 0.0105 - digit4_loss: 0.0062 - digit0_acc: 0.9981 - digit1_acc: 0.9964 - digit2_acc: 0.9960 - digit3_acc: 0.9964 - digit4_acc: 0.9978 - val_loss: 0.0260 - val_digit0_loss: 0.0032 - val_digit1_loss: 0.0058 - val_digit2_loss: 0.0069 - val_digit3_loss: 0.0063 - val_digit4_loss: 0.0038 - val_digit0_acc: 0.9989 - val_digit1_acc: 0.9982 - val_digit2_acc: 0.9978 - val_digit3_acc: 0.9980 - val_digit4_acc: 0.9988\n",
      "Epoch 33/35\n",
      "217835/217835 [==============================] - 20346s 93ms/step - loss: 0.0434 - digit0_loss: 0.0053 - digit1_loss: 0.0102 - digit2_loss: 0.0117 - digit3_loss: 0.0102 - digit4_loss: 0.0060 - digit0_acc: 0.9982 - digit1_acc: 0.9965 - digit2_acc: 0.9961 - digit3_acc: 0.9965 - digit4_acc: 0.9979 - val_loss: 0.0265 - val_digit0_loss: 0.0033 - val_digit1_loss: 0.0060 - val_digit2_loss: 0.0069 - val_digit3_loss: 0.0063 - val_digit4_loss: 0.0040 - val_digit0_acc: 0.9988 - val_digit1_acc: 0.9981 - val_digit2_acc: 0.9978 - val_digit3_acc: 0.9979 - val_digit4_acc: 0.9986\n",
      "Epoch 34/35\n",
      "217835/217835 [==============================] - 673s 3ms/step - loss: 0.0419 - digit0_loss: 0.0052 - digit1_loss: 0.0099 - digit2_loss: 0.0111 - digit3_loss: 0.0098 - digit4_loss: 0.0059 - digit0_acc: 0.9982 - digit1_acc: 0.9966 - digit2_acc: 0.9963 - digit3_acc: 0.9967 - digit4_acc: 0.9979 - val_loss: 0.0248 - val_digit0_loss: 0.0032 - val_digit1_loss: 0.0056 - val_digit2_loss: 0.0067 - val_digit3_loss: 0.0059 - val_digit4_loss: 0.0036 - val_digit0_acc: 0.9989 - val_digit1_acc: 0.9982 - val_digit2_acc: 0.9979 - val_digit3_acc: 0.9981 - val_digit4_acc: 0.9989\n",
      "Epoch 35/35\n",
      "217835/217835 [==============================] - 682s 3ms/step - loss: 0.0398 - digit0_loss: 0.0049 - digit1_loss: 0.0093 - digit2_loss: 0.0106 - digit3_loss: 0.0094 - digit4_loss: 0.0056 - digit0_acc: 0.9983 - digit1_acc: 0.9969 - digit2_acc: 0.9965 - digit3_acc: 0.9968 - digit4_acc: 0.9980 - val_loss: 0.0241 - val_digit0_loss: 0.0029 - val_digit1_loss: 0.0055 - val_digit2_loss: 0.0063 - val_digit3_loss: 0.0058 - val_digit4_loss: 0.0036 - val_digit0_acc: 0.9990 - val_digit1_acc: 0.9982 - val_digit2_acc: 0.9980 - val_digit3_acc: 0.9980 - val_digit4_acc: 0.9988\n"
     ]
    }
   ],
   "source": [
    "history = model.fit(x_train, s_train,\n",
    "                    batch_size=BATCH_SIZE,\n",
    "                    epochs=EPOCHS,\n",
    "                    verbose=1,\n",
    "                    validation_data=(x_test, s_test))"
   ]
  },
  {
   "cell_type": "markdown",
   "metadata": {},
   "source": [
    "Here, we can see the loss value and accuracy metric for each digit in our output softmax layers. As can be seen below, the network is tends to learn to predict the digits correctly as the loss value reduces."
   ]
  },
  {
   "cell_type": "code",
   "execution_count": 12,
   "metadata": {
    "scrolled": false
   },
   "outputs": [
    {
     "data": {
      "image/png": "[encoded data removed]",
      "text/plain": [
       "<Figure size 432x288 with 1 Axes>"
      ]
     },
     "metadata": {
      "needs_background": "light"
     },
     "output_type": "display_data"
    },
    {
     "data": {
      "image/png": "[encoded data removed]",
      "text/plain": [
       "<Figure size 432x288 with 1 Axes>"
      ]
     },
     "metadata": {
      "needs_background": "light"
     },
     "output_type": "display_data"
    }
   ],
   "source": [
    "plot_diagram(\n",
    "    [history.history['digit%d_acc' % i] for i in range(NUM_OF_LETTERS)],\n",
    "    [history.history['val_digit%d_acc' % i] for i in range(NUM_OF_LETTERS)],\n",
    "    history.history['loss'],\n",
    "    history.history['val_loss'],\n",
    ")"
   ]
  },
  {
   "cell_type": "markdown",
   "metadata": {},
   "source": [
    "Finally, we save the mode to file for later usage, then we print the final **loss** and **accuracy** metrics."
   ]
  },
  {
   "cell_type": "code",
   "execution_count": 32,
   "metadata": {},
   "outputs": [
    {
     "name": "stdout",
     "output_type": "stream",
     "text": [
      "217835/217835 [==============================] - 230s 1ms/step\n",
      "Train loss:     0.01\n",
      "Train accuracy: 99.60\n",
      "24085/24085 [==============================] - 26s 1ms/step\n",
      "Test loss:     0.01\n",
      "Test accuracy: 99.20\n"
     ]
    }
   ],
   "source": [
    "# Save model and weights\n",
    "if not os.path.isdir(save_dir):\n",
    "    os.makedirs(save_dir)\n",
    "model_path = os.path.join(save_dir, model_name)\n",
    "model.save(model_path)\n",
    "print('Saved trained model at %s ' % model_path)\n",
    "\n",
    "# Score trained model.\n",
    "scores = model.evaluate(x_train, s_train, verbose=1)\n",
    "print('Train loss:     %.2f' % np.mean(scores[0:5]))\n",
    "acc = 1.\n",
    "for i in range(5):\n",
    "    acc *= scores[6+i]\n",
    "print('Train accuracy: %.2f' % (acc * 100.))\n",
    "\n",
    "scores = model.evaluate(x_test, s_test, verbose=1)\n",
    "print('Test loss:     %.2f' % np.mean(scores[0:5]))\n",
    "acc = 1.\n",
    "for i in range(5):\n",
    "    acc *= scores[6+i]\n",
    "print('Test accuracy: %.2f' % (acc * 100.))"
   ]
  },
  {
   "cell_type": "code",
   "execution_count": null,
   "metadata": {},
   "outputs": [],
   "source": []
  }
 ],
 "metadata": {
  "kernelspec": {
   "display_name": "Python 3",
   "language": "python",
   "name": "python3"
  },
  "language_info": {
   "codemirror_mode": {
    "name": "ipython",
    "version": 3
   },
   "file_extension": ".py",
   "mimetype": "text/x-python",
   "name": "python",
   "nbconvert_exporter": "python",
   "pygments_lexer": "ipython3",
   "version": "3.7.3"
  }
 },
 "nbformat": 4,
 "nbformat_minor": 2
}
